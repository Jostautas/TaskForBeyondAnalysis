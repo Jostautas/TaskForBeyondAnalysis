{
 "cells": [
  {
   "cell_type": "code",
   "execution_count": 1,
   "id": "3eb849d6",
   "metadata": {},
   "outputs": [],
   "source": [
    "import pandas as pd\n",
    "\n",
    "main_file = \"data.parquet\"\n",
    "df = pd.read_parquet(main_file, engine='auto')\n",
    "\n",
    "# Uncomment to view how the main file was read\n",
    "#df\n",
    "\n",
    "# divide collumn tpep_dropoff_datatime into date and time respectively\n",
    "df[['tpep_dropoff_date', 'tpep_dropoff_time']] = df['tpep_dropoff_datetime'].astype(str).str.split(' ', 1, expand = True)\n",
    "# divide the file based on tpep_dropoff_date:\n",
    "df.to_parquet('./partitioned', partition_cols=['tpep_dropoff_date'])"
   ]
  },
  {
   "cell_type": "code",
   "execution_count": 2,
   "id": "7e4c95d4",
   "metadata": {},
   "outputs": [],
   "source": [
    "import glob\n",
    "\n",
    "# Select which files will be reuploaded based on their dropoff date:\n",
    "part_files = \"./partitioned/*2020-01*/*\"\n",
    "\n",
    "# Re-read files, but only with expected tpep_dropoff_datetime:\n",
    "newdf = pd.read_parquet(glob.glob(part_files), engine='auto')\n",
    "# Uncomment to view how the files have been read after eliminating anomalies\n",
    "#newdf\n",
    "\n"
   ]
  },
  {
   "cell_type": "code",
   "execution_count": 3,
   "id": "a9bbbbe9",
   "metadata": {},
   "outputs": [
    {
     "name": "stdout",
     "output_type": "stream",
     "text": [
      "Original rows:  6405008\n",
      "Re-read rows:   6402165\n"
     ]
    }
   ],
   "source": [
    "#compare the number of rows that we started with, to the number of rows that were re-read:\n",
    "print(\"Original rows: \", len(df.index))\n",
    "print(\"Re-read rows:  \", len(newdf.index))"
   ]
  },
  {
   "cell_type": "code",
   "execution_count": 4,
   "id": "e696bd35",
   "metadata": {},
   "outputs": [],
   "source": [
    "import sqlite3\n",
    "import sqlalchemy"
   ]
  },
  {
   "cell_type": "code",
   "execution_count": 5,
   "id": "3e2fad66",
   "metadata": {},
   "outputs": [],
   "source": [
    "engine = sqlalchemy.create_engine('sqlite:///DataBase.db')"
   ]
  },
  {
   "cell_type": "code",
   "execution_count": 7,
   "id": "ea5cd4ae",
   "metadata": {},
   "outputs": [
    {
     "data": {
      "text/plain": [
       "6402165"
      ]
     },
     "execution_count": 7,
     "metadata": {},
     "output_type": "execute_result"
    }
   ],
   "source": [
    "newdf.to_sql('table', engine, if_exists = 'append', index = False, chunksize = 1000, method = None)"
   ]
  },
  {
   "cell_type": "code",
   "execution_count": null,
   "id": "0bf3ef38",
   "metadata": {},
   "outputs": [],
   "source": []
  }
 ],
 "metadata": {
  "kernelspec": {
   "display_name": "Python 3 (ipykernel)",
   "language": "python",
   "name": "python3"
  },
  "language_info": {
   "codemirror_mode": {
    "name": "ipython",
    "version": 3
   },
   "file_extension": ".py",
   "mimetype": "text/x-python",
   "name": "python",
   "nbconvert_exporter": "python",
   "pygments_lexer": "ipython3",
   "version": "3.10.4"
  }
 },
 "nbformat": 4,
 "nbformat_minor": 5
}
