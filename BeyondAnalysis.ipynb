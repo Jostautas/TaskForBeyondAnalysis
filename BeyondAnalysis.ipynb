{
 "cells": [
  {
   "cell_type": "code",
   "execution_count": 15,
   "id": "3eb849d6",
   "metadata": {},
   "outputs": [],
   "source": [
    "# 1:\n",
    "import pandas as pd\n",
    "main_file = \"data.parquet\"\n",
    "df = pd.read_parquet(main_file, engine='auto')\n",
    "#df # Uncomment to view how the main file was read\n",
    "df[['tpep_dropoff_date', 'tpep_dropoff_time']] = df['tpep_dropoff_datetime'].astype(str).str.split(' ', 1, expand = True)\n",
    "df.to_parquet('./partitioned', partition_cols=['tpep_dropoff_date'])"
   ]
  },
  {
   "cell_type": "code",
   "execution_count": 16,
   "id": "7e4c95d4",
   "metadata": {},
   "outputs": [],
   "source": [
    "#2:\n",
    "import glob\n",
    "part_files = \"./partitioned/*2020-01*/*\"\n",
    "newdf = pd.read_parquet(glob.glob(part_files), engine='auto')\n",
    "#newdf # Uncomment to view how the files have been read after eliminating anomalies"
   ]
  },
  {
   "cell_type": "code",
   "execution_count": null,
   "id": "a9bbbbe9",
   "metadata": {},
   "outputs": [],
   "source": [
    "#3:\n"
   ]
  }
 ],
 "metadata": {
  "kernelspec": {
   "display_name": "Python 3 (ipykernel)",
   "language": "python",
   "name": "python3"
  },
  "language_info": {
   "codemirror_mode": {
    "name": "ipython",
    "version": 3
   },
   "file_extension": ".py",
   "mimetype": "text/x-python",
   "name": "python",
   "nbconvert_exporter": "python",
   "pygments_lexer": "ipython3",
   "version": "3.10.4"
  }
 },
 "nbformat": 4,
 "nbformat_minor": 5
}
