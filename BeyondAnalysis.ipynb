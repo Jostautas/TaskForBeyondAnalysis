{
 "cells": [
  {
   "cell_type": "code",
   "execution_count": 1,
   "id": "c9db9cbd",
   "metadata": {},
   "outputs": [],
   "source": [
    "import pandas as pd\n",
    "import sqlite3\n",
    "import sqlalchemy\n",
    "import glob"
   ]
  },
  {
   "cell_type": "code",
   "execution_count": 2,
   "id": "3eb849d6",
   "metadata": {},
   "outputs": [],
   "source": [
    "main_file = \"data.parquet\"\n",
    "df = pd.read_parquet(main_file, engine='auto')\n",
    "\n",
    "# divide collumn tpep_dropoff_datatime into date and time respectively\n",
    "df[['tpep_dropoff_date', 'tpep_dropoff_time']] = df['tpep_dropoff_datetime'].astype(str).str.split(' ', 1, expand = True)\n",
    "\n",
    "# delete the excessive tpep_dropoff_time collumn\n",
    "del df['tpep_dropoff_time']\n",
    "\n",
    "# divide the file based on tpep_dropoff_date:\n",
    "df.to_parquet('./partitioned', partition_cols=['tpep_dropoff_date'])"
   ]
  },
  {
   "cell_type": "code",
   "execution_count": 3,
   "id": "d79be1e6",
   "metadata": {},
   "outputs": [],
   "source": [
    "# view how the main file was read\n",
    "#df"
   ]
  },
  {
   "cell_type": "code",
   "execution_count": 4,
   "id": "7e4c95d4",
   "metadata": {},
   "outputs": [],
   "source": [
    "# Select which files will be reuploaded based on their dropoff date:\n",
    "part_files = \"./partitioned/*2020-01*/*\"\n",
    "\n",
    "# Re-read files, but only with expected tpep_dropoff_datetime:\n",
    "newdf = pd.read_parquet(glob.glob(part_files), engine='auto')"
   ]
  },
  {
   "cell_type": "code",
   "execution_count": 5,
   "id": "c48f86f9",
   "metadata": {},
   "outputs": [],
   "source": [
    "# Uncomment to view how the files have been read after eliminating anomalies\n",
    "#newdf"
   ]
  },
  {
   "cell_type": "code",
   "execution_count": 6,
   "id": "a9bbbbe9",
   "metadata": {},
   "outputs": [
    {
     "name": "stdout",
     "output_type": "stream",
     "text": [
      "Original rows:  6405008\n",
      "Re-read rows:   6402165\n"
     ]
    }
   ],
   "source": [
    "#compare the number of rows that we started with, to the number of rows that were re-read:\n",
    "print(\"Original rows: \", len(df.index))\n",
    "print(\"Re-read rows:  \", len(newdf.index))"
   ]
  },
  {
   "cell_type": "code",
   "execution_count": 7,
   "id": "3e2fad66",
   "metadata": {},
   "outputs": [
    {
     "data": {
      "text/plain": [
       "6402165"
      ]
     },
     "execution_count": 7,
     "metadata": {},
     "output_type": "execute_result"
    }
   ],
   "source": [
    "engine = sqlalchemy.create_engine('sqlite:///DataBase.db')\n",
    "newdf.to_sql('table', engine, if_exists = 'append', index = False, chunksize = 1000, method = None)"
   ]
  },
  {
   "cell_type": "code",
   "execution_count": null,
   "id": "0bf3ef38",
   "metadata": {},
   "outputs": [],
   "source": []
  }
 ],
 "metadata": {
  "kernelspec": {
   "display_name": "Python 3 (ipykernel)",
   "language": "python",
   "name": "python3"
  },
  "language_info": {
   "codemirror_mode": {
    "name": "ipython",
    "version": 3
   },
   "file_extension": ".py",
   "mimetype": "text/x-python",
   "name": "python",
   "nbconvert_exporter": "python",
   "pygments_lexer": "ipython3",
   "version": "3.10.4"
  }
 },
 "nbformat": 4,
 "nbformat_minor": 5
}
